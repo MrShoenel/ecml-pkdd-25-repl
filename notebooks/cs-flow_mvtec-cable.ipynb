{
 "cells": [
  {
   "cell_type": "markdown",
   "metadata": {},
   "source": [
    "# Replication: CS-Flow MVTec AD Cable, rotated\n",
    "\n",
    "In this notebook, we rotate the training data for the MVTec AD category *cable*.\n",
    "\n",
    "25% of all data is each 0°, 90°, 180°, and 270° rotated."
   ]
  },
  {
   "cell_type": "code",
   "execution_count": 1,
   "metadata": {},
   "outputs": [],
   "source": [
    "from __init__ import activate_cs_flow_config, CSFLOW_DIR\n",
    "import shutil\n",
    "\n",
    "# First, we activate the correct configuration.\n",
    "activate_cs_flow_config(name='mvtec-cable')"
   ]
  },
  {
   "cell_type": "markdown",
   "metadata": {},
   "source": [
    "# Extracting Features"
   ]
  },
  {
   "cell_type": "code",
   "execution_count": 2,
   "metadata": {},
   "outputs": [],
   "source": [
    "import os\n",
    "import numpy as np\n",
    "from src.repos.cs_flow.utils import load_datasets, make_dataloaders\n",
    "from src.repos.cs_flow.extract_features import extract\n",
    "import src.repos.cs_flow.config as c\n",
    "\n",
    "\n",
    "prepend_dir = str(CSFLOW_DIR.resolve()) + '/'\n",
    "export_name = c.class_name\n",
    "export_dir = prepend_dir + 'data/features/' + export_name + '/'\n",
    "image_paths = export_dir + c.class_name + '_image_paths.npy'\n",
    "c.pre_extracted = False\n",
    "os.makedirs(export_dir, exist_ok=True)\n",
    "train_set, test_set = load_datasets(prepend_dir + c.dataset_path, c.class_name)\n",
    "train_loader, test_loader = make_dataloaders(train_set, test_set)"
   ]
  },
  {
   "cell_type": "code",
   "execution_count": 3,
   "metadata": {},
   "outputs": [
    {
     "name": "stdout",
     "output_type": "stream",
     "text": [
      "Loaded pretrained weights for efficientnet-b5\n"
     ]
    },
    {
     "name": "stderr",
     "output_type": "stream",
     "text": [
      "100%|██████████| 14/14 [00:14<00:00,  1.00s/it]\n",
      "100%|██████████| 10/10 [00:09<00:00,  1.04it/s]\n"
     ]
    }
   ],
   "source": [
    "from pathlib import Path\n",
    "\n",
    "if not Path(image_paths).exists():\n",
    "    extract(train_loader, test_loader, export_dir, c.class_name)\n",
    "    paths = [p for p, l in test_set.samples]\n",
    "    np.save(export_dir + c.class_name + '_image_paths.npy', paths)"
   ]
  },
  {
   "cell_type": "markdown",
   "metadata": {},
   "source": [
    "# Training"
   ]
  },
  {
   "cell_type": "code",
   "execution_count": null,
   "metadata": {},
   "outputs": [
    {
     "name": "stdout",
     "output_type": "stream",
     "text": [
      "Loaded pretrained weights for efficientnet-b5\n",
      "\n",
      "Train epoch 0\n"
     ]
    },
    {
     "name": "stderr",
     "output_type": "stream",
     "text": [
      "100%|██████████| 14/14 [00:16<00:00,  1.16s/it]\n"
     ]
    },
    {
     "name": "stdout",
     "output_type": "stream",
     "text": [
      "Epoch: 0.0 \t train loss: 14.8853\n"
     ]
    },
    {
     "name": "stderr",
     "output_type": "stream",
     "text": [
      "100%|██████████| 14/14 [00:15<00:00,  1.13s/it]\n",
      "100%|██████████| 14/14 [00:15<00:00,  1.12s/it]\n",
      "100%|██████████| 14/14 [00:15<00:00,  1.13s/it]\n",
      "100%|██████████| 14/14 [00:15<00:00,  1.14s/it]\n"
     ]
    },
    {
     "name": "stdout",
     "output_type": "stream",
     "text": [
      "Epoch: 0.4 \t train loss: 7.4750\n"
     ]
    },
    {
     "name": "stderr",
     "output_type": "stream",
     "text": [
      "100%|██████████| 14/14 [00:15<00:00,  1.13s/it]\n",
      "100%|██████████| 14/14 [00:15<00:00,  1.13s/it]\n",
      "100%|██████████| 14/14 [00:15<00:00,  1.13s/it]\n",
      "100%|██████████| 14/14 [00:15<00:00,  1.14s/it]\n"
     ]
    },
    {
     "name": "stdout",
     "output_type": "stream",
     "text": [
      "Epoch: 0.8 \t train loss: 2.3213\n"
     ]
    },
    {
     "name": "stderr",
     "output_type": "stream",
     "text": [
      "100%|██████████| 14/14 [00:15<00:00,  1.13s/it]\n",
      "100%|██████████| 14/14 [00:15<00:00,  1.13s/it]\n",
      "100%|██████████| 14/14 [00:15<00:00,  1.13s/it]\n",
      "100%|██████████| 14/14 [00:15<00:00,  1.13s/it]\n"
     ]
    },
    {
     "name": "stdout",
     "output_type": "stream",
     "text": [
      "Epoch: 0.12 \t train loss: 1.9830\n"
     ]
    },
    {
     "name": "stderr",
     "output_type": "stream",
     "text": [
      "100%|██████████| 14/14 [00:15<00:00,  1.13s/it]\n",
      "100%|██████████| 14/14 [00:15<00:00,  1.13s/it]\n",
      "100%|██████████| 14/14 [00:15<00:00,  1.13s/it]\n",
      "100%|██████████| 14/14 [00:15<00:00,  1.14s/it]\n"
     ]
    },
    {
     "name": "stdout",
     "output_type": "stream",
     "text": [
      "Epoch: 0.16 \t train loss: 1.9157\n"
     ]
    },
    {
     "name": "stderr",
     "output_type": "stream",
     "text": [
      "100%|██████████| 14/14 [00:15<00:00,  1.13s/it]\n",
      "100%|██████████| 14/14 [00:15<00:00,  1.13s/it]\n",
      "100%|██████████| 14/14 [00:15<00:00,  1.12s/it]\n",
      "100%|██████████| 14/14 [00:15<00:00,  1.12s/it]\n"
     ]
    },
    {
     "name": "stdout",
     "output_type": "stream",
     "text": [
      "Epoch: 0.20 \t train loss: 1.8783\n"
     ]
    },
    {
     "name": "stderr",
     "output_type": "stream",
     "text": [
      "100%|██████████| 14/14 [00:15<00:00,  1.12s/it]\n",
      "100%|██████████| 14/14 [00:15<00:00,  1.12s/it]\n",
      " 50%|█████     | 7/14 [00:07<00:07,  1.12s/it]"
     ]
    }
   ],
   "source": [
    "from src.repos.cs_flow.train import train\n",
    "\n",
    "results = train(train_loader, test_loader)\n",
    "if isinstance(results, tuple):\n",
    "    model = results[0]\n",
    "    print(results[1:])\n",
    "else:\n",
    "    model = results"
   ]
  },
  {
   "cell_type": "markdown",
   "metadata": {},
   "source": [
    "# Evaluation"
   ]
  },
  {
   "cell_type": "code",
   "execution_count": 5,
   "metadata": {},
   "outputs": [],
   "source": [
    "localize = True\n",
    "upscale_mode = 'bilinear'\n",
    "score_export_dir = CSFLOW_DIR.joinpath('./viz/scores/', c.modelname)\n",
    "os.makedirs(score_export_dir, exist_ok=True)\n",
    "map_export_dir = CSFLOW_DIR.joinpath('./viz/maps/', c.modelname)\n",
    "os.makedirs(map_export_dir, exist_ok=True)"
   ]
  },
  {
   "cell_type": "code",
   "execution_count": null,
   "metadata": {},
   "outputs": [],
   "source": [
    "from src.repos.cs_flow.model import load_model\n",
    "from src.repos.cs_flow.evaluate import evaluate\n",
    "\n",
    "img_paths = test_set.paths if c.pre_extracted else [p for p, l in test_set.samples]\n",
    "_, test_loader = make_dataloaders(train_set, test_set)\n",
    "mod = load_model(c.modelname)\n",
    "evaluate(mod, test_loader, score_export_dir, map_export_dir, img_paths, localize)"
   ]
  },
  {
   "cell_type": "code",
   "execution_count": null,
   "metadata": {},
   "outputs": [],
   "source": []
  }
 ],
 "metadata": {
  "kernelspec": {
   "display_name": "ecml25repl",
   "language": "python",
   "name": "python3"
  },
  "language_info": {
   "codemirror_mode": {
    "name": "ipython",
    "version": 3
   },
   "file_extension": ".py",
   "mimetype": "text/x-python",
   "name": "python",
   "nbconvert_exporter": "python",
   "pygments_lexer": "ipython3",
   "version": "3.13.2"
  }
 },
 "nbformat": 4,
 "nbformat_minor": 2
}
