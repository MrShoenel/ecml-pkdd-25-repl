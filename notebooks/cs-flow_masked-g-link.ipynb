{
 "cells": [
  {
   "cell_type": "markdown",
   "metadata": {},
   "source": [
    "# Replication: CS-Flow Naive G-Link\n",
    "\n",
    "In this notebook, we naively apply CS-Flow to our raw G-Link dataset."
   ]
  },
  {
   "cell_type": "code",
   "execution_count": 1,
   "metadata": {},
   "outputs": [],
   "source": [
    "from __init__ import activate_cs_flow_config, CSFLOW_DIR\n",
    "import shutil\n",
    "\n",
    "# First, we activate the correct configuration.\n",
    "activate_cs_flow_config(name='masked-g-link')"
   ]
  },
  {
   "cell_type": "markdown",
   "metadata": {},
   "source": [
    "# Extracting Features"
   ]
  },
  {
   "cell_type": "code",
   "execution_count": null,
   "metadata": {},
   "outputs": [],
   "source": [
    "import os\n",
    "import numpy as np\n",
    "from src.repos.cs_flow.utils import load_datasets, make_dataloaders\n",
    "from src.repos.cs_flow.extract_features import extract\n",
    "import src.repos.cs_flow.config as c\n",
    "\n",
    "\n",
    "prepend_dir = str(CSFLOW_DIR.resolve()) + '/'\n",
    "export_name = c.class_name\n",
    "export_dir = prepend_dir + 'data/features/' + export_name + '/'\n",
    "image_paths = export_dir + c.class_name + '_image_paths.npy'\n",
    "c.pre_extracted = False\n",
    "os.makedirs(export_dir, exist_ok=True)\n",
    "train_set, test_set = load_datasets(prepend_dir + c.dataset_path, c.class_name)\n",
    "train_loader, test_loader = make_dataloaders(train_set, test_set)"
   ]
  },
  {
   "cell_type": "code",
   "execution_count": null,
   "metadata": {},
   "outputs": [],
   "source": [
    "from pathlib import Path\n",
    "\n",
    "if not Path(image_paths).exists():\n",
    "    extract(train_loader, test_loader, export_dir, c.class_name)\n",
    "    paths = [p for p, l in test_set.samples]\n",
    "    np.save(export_dir + c.class_name + '_image_paths.npy', paths)"
   ]
  },
  {
   "cell_type": "markdown",
   "metadata": {},
   "source": [
    "# Training"
   ]
  },
  {
   "cell_type": "code",
   "execution_count": null,
   "metadata": {},
   "outputs": [],
   "source": [
    "from src.repos.cs_flow.train import train\n",
    "\n",
    "results = train(train_loader, test_loader)\n",
    "if isinstance(results, tuple):\n",
    "    model = results[0]\n",
    "    print(results[1:])\n",
    "else:\n",
    "    model = results"
   ]
  },
  {
   "cell_type": "markdown",
   "metadata": {},
   "source": [
    "# Evaluation"
   ]
  },
  {
   "cell_type": "code",
   "execution_count": 5,
   "metadata": {},
   "outputs": [],
   "source": [
    "localize = True\n",
    "upscale_mode = 'bilinear'\n",
    "score_export_dir = CSFLOW_DIR.joinpath('./viz/scores/', c.modelname)\n",
    "os.makedirs(score_export_dir, exist_ok=True)\n",
    "map_export_dir = CSFLOW_DIR.joinpath('./viz/maps/', c.modelname)\n",
    "os.makedirs(map_export_dir, exist_ok=True)"
   ]
  },
  {
   "cell_type": "code",
   "execution_count": null,
   "metadata": {},
   "outputs": [],
   "source": [
    "from src.repos.cs_flow.model import load_model\n",
    "from src.repos.cs_flow.evaluate import compare_histogram, viz_roc, viz_map_array, evaluate\n",
    "\n",
    "img_paths = test_set.paths if c.pre_extracted else [p for p, l in test_set.samples]\n",
    "_, test_loader = make_dataloaders(train_set, test_set)\n",
    "mod = load_model(c.modelname)\n",
    "evaluate(mod, test_loader, score_export_dir, map_export_dir, img_paths, localize)"
   ]
  },
  {
   "cell_type": "code",
   "execution_count": null,
   "metadata": {},
   "outputs": [],
   "source": []
  }
 ],
 "metadata": {
  "kernelspec": {
   "display_name": "ecml25repl",
   "language": "python",
   "name": "python3"
  },
  "language_info": {
   "codemirror_mode": {
    "name": "ipython",
    "version": 3
   },
   "file_extension": ".py",
   "mimetype": "text/x-python",
   "name": "python",
   "nbconvert_exporter": "python",
   "pygments_lexer": "ipython3",
   "version": "3.13.2"
  }
 },
 "nbformat": 4,
 "nbformat_minor": 2
}
